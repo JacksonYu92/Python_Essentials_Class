{
 "cells": [
  {
   "cell_type": "markdown",
   "id": "f083552d",
   "metadata": {},
   "source": [
    "### Case Study #1: Linear Regression of Height & Weight\n",
    "##### Group: Group 12\n",
    "##### Members:  Arun Gharu, Qichun Yu"
   ]
  },
  {
   "cell_type": "markdown",
   "id": "ae79bab7",
   "metadata": {},
   "source": [
    "Import numpy, pandas, matplotlib.pyplot, seaborn and LinearRegression"
   ]
  },
  {
   "cell_type": "code",
   "execution_count": 2,
   "id": "662d546b",
   "metadata": {},
   "outputs": [],
   "source": [
    "import numpy as np\n",
    "import pandas as pd\n",
    "import matplotlib.pyplot as plt\n",
    "import seaborn as sb\n",
    "%matplotlib inline\n",
    "from sklearn.linear_model import LinearRegression"
   ]
  },
  {
   "cell_type": "markdown",
   "id": "160870b7",
   "metadata": {},
   "source": [
    "Read the height_mass.csv file into a Pandas DataSet called: people"
   ]
  },
  {
   "cell_type": "code",
   "execution_count": 3,
   "id": "9a8c6af5",
   "metadata": {},
   "outputs": [
    {
     "data": {
      "text/html": [
       "<div>\n",
       "<style scoped>\n",
       "    .dataframe tbody tr th:only-of-type {\n",
       "        vertical-align: middle;\n",
       "    }\n",
       "\n",
       "    .dataframe tbody tr th {\n",
       "        vertical-align: top;\n",
       "    }\n",
       "\n",
       "    .dataframe thead th {\n",
       "        text-align: right;\n",
       "    }\n",
       "</style>\n",
       "<table border=\"1\" class=\"dataframe\">\n",
       "  <thead>\n",
       "    <tr style=\"text-align: right;\">\n",
       "      <th></th>\n",
       "      <th>Height (m)</th>\n",
       "      <th>Mass (kg)</th>\n",
       "    </tr>\n",
       "  </thead>\n",
       "  <tbody>\n",
       "    <tr>\n",
       "      <th>0</th>\n",
       "      <td>1.47</td>\n",
       "      <td>52.21</td>\n",
       "    </tr>\n",
       "    <tr>\n",
       "      <th>1</th>\n",
       "      <td>1.50</td>\n",
       "      <td>53.12</td>\n",
       "    </tr>\n",
       "    <tr>\n",
       "      <th>2</th>\n",
       "      <td>1.52</td>\n",
       "      <td>54.48</td>\n",
       "    </tr>\n",
       "    <tr>\n",
       "      <th>3</th>\n",
       "      <td>1.55</td>\n",
       "      <td>55.84</td>\n",
       "    </tr>\n",
       "    <tr>\n",
       "      <th>4</th>\n",
       "      <td>1.57</td>\n",
       "      <td>57.20</td>\n",
       "    </tr>\n",
       "    <tr>\n",
       "      <th>5</th>\n",
       "      <td>1.60</td>\n",
       "      <td>58.57</td>\n",
       "    </tr>\n",
       "    <tr>\n",
       "      <th>6</th>\n",
       "      <td>1.63</td>\n",
       "      <td>59.93</td>\n",
       "    </tr>\n",
       "    <tr>\n",
       "      <th>7</th>\n",
       "      <td>1.65</td>\n",
       "      <td>61.29</td>\n",
       "    </tr>\n",
       "    <tr>\n",
       "      <th>8</th>\n",
       "      <td>1.68</td>\n",
       "      <td>63.11</td>\n",
       "    </tr>\n",
       "    <tr>\n",
       "      <th>9</th>\n",
       "      <td>1.70</td>\n",
       "      <td>64.47</td>\n",
       "    </tr>\n",
       "    <tr>\n",
       "      <th>10</th>\n",
       "      <td>1.73</td>\n",
       "      <td>66.28</td>\n",
       "    </tr>\n",
       "    <tr>\n",
       "      <th>11</th>\n",
       "      <td>1.75</td>\n",
       "      <td>68.10</td>\n",
       "    </tr>\n",
       "    <tr>\n",
       "      <th>12</th>\n",
       "      <td>1.78</td>\n",
       "      <td>69.92</td>\n",
       "    </tr>\n",
       "    <tr>\n",
       "      <th>13</th>\n",
       "      <td>1.80</td>\n",
       "      <td>72.19</td>\n",
       "    </tr>\n",
       "    <tr>\n",
       "      <th>14</th>\n",
       "      <td>1.83</td>\n",
       "      <td>74.46</td>\n",
       "    </tr>\n",
       "  </tbody>\n",
       "</table>\n",
       "</div>"
      ],
      "text/plain": [
       "    Height (m)  Mass (kg)\n",
       "0         1.47      52.21\n",
       "1         1.50      53.12\n",
       "2         1.52      54.48\n",
       "3         1.55      55.84\n",
       "4         1.57      57.20\n",
       "5         1.60      58.57\n",
       "6         1.63      59.93\n",
       "7         1.65      61.29\n",
       "8         1.68      63.11\n",
       "9         1.70      64.47\n",
       "10        1.73      66.28\n",
       "11        1.75      68.10\n",
       "12        1.78      69.92\n",
       "13        1.80      72.19\n",
       "14        1.83      74.46"
      ]
     },
     "execution_count": 3,
     "metadata": {},
     "output_type": "execute_result"
    }
   ],
   "source": [
    "people = pd.read_csv(\"height_mass.csv\")\n",
    "people"
   ]
  },
  {
   "cell_type": "markdown",
   "id": "f065b552",
   "metadata": {},
   "source": [
    "Use a Seaborn histplot to show the distribution for Mass"
   ]
  },
  {
   "cell_type": "code",
   "execution_count": 22,
   "id": "bb801931",
   "metadata": {},
   "outputs": [
    {
     "data": {
      "text/plain": [
       "<AxesSubplot:xlabel='Mass (kg)', ylabel='Count'>"
      ]
     },
     "execution_count": 22,
     "metadata": {},
     "output_type": "execute_result"
    },
    {
     "data": {
      "image/png": "[encoded data removed]",
      "text/plain": [
       "<Figure size 432x288 with 1 Axes>"
      ]
     },
     "metadata": {
      "needs_background": "light"
     },
     "output_type": "display_data"
    }
   ],
   "source": [
    "Mass = people['Mass (kg)']\n",
    "sb.histplot(Mass, bins=4)"
   ]
  },
  {
   "cell_type": "markdown",
   "id": "5d709356",
   "metadata": {},
   "source": [
    "What does the plot tell you about the data?<br>\n",
    "The plot tells us about the overall distribution of mass of 15 people by counting the number of observations that fall within discrete bins. The distribution is not symmetric and it is skewed to the right. "
   ]
  },
  {
   "cell_type": "markdown",
   "id": "56af3b6c",
   "metadata": {},
   "source": [
    "From our observations, we noted that the seaborn histplot forms the same shape for many different choices of the number of bins but we choose the value of k as 4 because it gives us a typical plot that is able to understand. It has a large number of occurrences in the lower value of Mass. "
   ]
  },
  {
   "cell_type": "markdown",
   "id": "972f1a7f",
   "metadata": {},
   "source": [
    "Use a Seaborn histplot to show the distribution for Height"
   ]
  },
  {
   "cell_type": "code",
   "execution_count": 28,
   "id": "333ae980",
   "metadata": {},
   "outputs": [
    {
     "data": {
      "text/plain": [
       "<AxesSubplot:xlabel='Height (m)', ylabel='Count'>"
      ]
     },
     "execution_count": 28,
     "metadata": {},
     "output_type": "execute_result"
    },
    {
     "data": {
      "image/png": "[encoded data removed]",
      "text/plain": [
       "<Figure size 432x288 with 1 Axes>"
      ]
     },
     "metadata": {
      "needs_background": "light"
     },
     "output_type": "display_data"
    }
   ],
   "source": [
    "Height = people['Height (m)']\n",
    "sb.histplot(Height, bins=4)"
   ]
  },
  {
   "cell_type": "markdown",
   "id": "5271c3e7",
   "metadata": {},
   "source": [
    "What does the plot tell you about the data?<br>\n",
    "The plot tells us about the overall distribution of the height of 15 people by counting the number of observations that fall within discrete bins. "
   ]
  },
  {
   "cell_type": "markdown",
   "id": "a5c32fe0",
   "metadata": {},
   "source": [
    "From our observations, we noted that the seaborn histplot forms the same shape for many different choices of the number of bins but we choose the value of k as 4 because it gives us a typical plot that is able to understand. The graph does not follow a normal distribution and it is a uniform distribution. It provides little information about the system. It has several modes or peaks. "
   ]
  },
  {
   "cell_type": "markdown",
   "id": "9ad91ac9",
   "metadata": {},
   "source": [
    "Use a Seaborn jointplot to plot x=Height, y=Mass"
   ]
  },
  {
   "cell_type": "code",
   "execution_count": 5,
   "id": "b761fa49",
   "metadata": {},
   "outputs": [
    {
     "data": {
      "text/plain": [
       "<seaborn.axisgrid.JointGrid at 0x289dc2b8460>"
      ]
     },
     "execution_count": 5,
     "metadata": {},
     "output_type": "execute_result"
    },
    {
     "data": {
      "image/png": "[encoded data removed]",
      "text/plain": [
       "<Figure size 432x432 with 3 Axes>"
      ]
     },
     "metadata": {
      "needs_background": "light"
     },
     "output_type": "display_data"
    }
   ],
   "source": [
    "sb.jointplot(x=Height,y=Mass,data=people)"
   ]
  },
  {
   "cell_type": "markdown",
   "id": "1a905235",
   "metadata": {},
   "source": [
    "Does this plot confirm what the histplot showed?<br>\n",
    "\n",
    "Yes, this plot confirms the same result as shown in the histplot. The distribution of height follows a uniform distribution and the distribution of mass is not symmetric. Moreover, from the plot, we can see the relationship that when the height is increasing with the value of mass. The height and the mass seem to have a strong positive correlation with each other. "
   ]
  },
  {
   "cell_type": "markdown",
   "id": "ba64ddb4",
   "metadata": {},
   "source": [
    "Split the data into training and testing data, using appropriate variable names.<br>\n",
    "- Prepare your x and y:\n",
    "       x: Drop the Mass column.\n",
    "       y: Specify the Mass column.\n",
    "- Use sklearn train_test_split to split the data."
   ]
  },
  {
   "cell_type": "code",
   "execution_count": 6,
   "id": "e71d2b04",
   "metadata": {},
   "outputs": [],
   "source": [
    "# train, test, split\n",
    "from sklearn.model_selection import train_test_split\n",
    "\n",
    "x = people.drop(['Mass (kg)'],axis=1)\n",
    "y = people['Mass (kg)']\n",
    "\n",
    "x_train,x_test,y_train,y_test = train_test_split(x,y,test_size=0.3)"
   ]
  },
  {
   "cell_type": "markdown",
   "id": "117cff93",
   "metadata": {},
   "source": [
    "Create the model and fit it to the training data.\n",
    "- Create a sklearn LinearRegression model.\n",
    "- Use the fit method to fit it to the training data."
   ]
  },
  {
   "cell_type": "code",
   "execution_count": 7,
   "id": "0141d4d3",
   "metadata": {},
   "outputs": [
    {
     "data": {
      "text/plain": [
       "LinearRegression()"
      ]
     },
     "execution_count": 7,
     "metadata": {},
     "output_type": "execute_result"
    }
   ],
   "source": [
    "lm = LinearRegression()\n",
    "lm.fit(x_train,y_train)"
   ]
  },
  {
   "cell_type": "markdown",
   "id": "f297efef",
   "metadata": {},
   "source": [
    "Predict values based on testing data."
   ]
  },
  {
   "cell_type": "code",
   "execution_count": 8,
   "id": "286a149c",
   "metadata": {},
   "outputs": [],
   "source": [
    "predictions = lm.predict(x_test)"
   ]
  },
  {
   "cell_type": "markdown",
   "id": "ee6956ac",
   "metadata": {},
   "source": [
    "Print out error metrics:\n",
    "- Mean Absolute Error (MAE)\n",
    "- Mean Squared Error (MSE)\n",
    "- Root Mean Squared Error (RMSE)"
   ]
  },
  {
   "cell_type": "code",
   "execution_count": 9,
   "id": "e9d79e06",
   "metadata": {},
   "outputs": [
    {
     "name": "stdout",
     "output_type": "stream",
     "text": [
      "MAE: 0.3015034525564431\n",
      "MSE: 0.16635925324139128\n",
      "RMSE: 0.4078716136744396\n"
     ]
    }
   ],
   "source": [
    "# print out some error evaluation metrics\n",
    "from sklearn import metrics\n",
    "\n",
    "# MAE: Mean Absolute Error\n",
    "# MSE: Mean Squared Error\n",
    "# RMSE: Root Mean Squared Error\n",
    "print(\"MAE:\", metrics.mean_absolute_error(y_test, predictions))\n",
    "print(\"MSE:\", metrics.mean_squared_error(y_test, predictions))\n",
    "print(\"RMSE:\", np.sqrt(metrics.mean_squared_error(y_test, predictions)))"
   ]
  },
  {
   "cell_type": "markdown",
   "id": "6a7845c2",
   "metadata": {},
   "source": [
    "Predict some specific mass. Choose any height directly from the data, predict the\n",
    "weight for that height, and see whether the prediction is close to reality."
   ]
  },
  {
   "cell_type": "code",
   "execution_count": 10,
   "id": "4f0b450d",
   "metadata": {},
   "outputs": [
    {
     "name": "stderr",
     "output_type": "stream",
     "text": [
      "C:\\Users\\jacks\\anaconda3\\lib\\site-packages\\sklearn\\base.py:450: UserWarning: X does not have valid feature names, but LinearRegression was fitted with feature names\n",
      "  warnings.warn(\n"
     ]
    },
    {
     "data": {
      "text/plain": [
       "array([65.15639382])"
      ]
     },
     "execution_count": 10,
     "metadata": {},
     "output_type": "execute_result"
    }
   ],
   "source": [
    "lm.predict([[1.70]])"
   ]
  },
  {
   "cell_type": "markdown",
   "id": "39a11ca5",
   "metadata": {},
   "source": [
    "No, the predicted value of height(1.70) does not match the actual value because index 9 of the data clearly shows that the actual value of height(1.70) is matched with mass(64.47). Therefore, the predicted value is a little bit higher which is 65.15. It is a little bit higher and that is why we have a low RMSE error for our model. RootMean Square Error (RMSE) is the standard deviation of the residuals values. It measures how far away the data points are from the regression line. RMSE is a good measure of linear regression because it shows how accurately the model predicts. The lower the RMSE value given the model is able to fit better with the dataset. In our case, RMSE is 0.4079 is low indicating the model has a better fit. "
   ]
  },
  {
   "cell_type": "markdown",
   "id": "f493a71e",
   "metadata": {},
   "source": [
    "Use seaborn to display an lmplot with the linear regression line shown (fit_reg=True)"
   ]
  },
  {
   "cell_type": "code",
   "execution_count": 11,
   "id": "485892cd",
   "metadata": {},
   "outputs": [
    {
     "data": {
      "text/plain": [
       "<seaborn.axisgrid.FacetGrid at 0x289dc402940>"
      ]
     },
     "execution_count": 11,
     "metadata": {},
     "output_type": "execute_result"
    },
    {
     "data": {
      "image/png": "[encoded data removed]",
      "text/plain": [
       "<Figure size 360x360 with 1 Axes>"
      ]
     },
     "metadata": {
      "needs_background": "light"
     },
     "output_type": "display_data"
    }
   ],
   "source": [
    "sb.lmplot(x='Height (m)',y='Mass (kg)',data=people, fit_reg=True)"
   ]
  },
  {
   "cell_type": "markdown",
   "id": "813d9bbc",
   "metadata": {},
   "source": [
    "Yes, this plot supports our observations from task #6 as the linear regression line is passing through the joinplot. The plot shows the relationship that the height is increasing with the value of mass. The height and the mass seem to have a strong positive correlation with each other. Noticed that all the data points are very close to the regression line and there is no outlier. "
   ]
  },
  {
   "cell_type": "code",
   "execution_count": null,
   "id": "33a029ac",
   "metadata": {},
   "outputs": [],
   "source": []
  }
 ],
 "metadata": {
  "kernelspec": {
   "display_name": "Python 3 (ipykernel)",
   "language": "python",
   "name": "python3"
  },
  "language_info": {
   "codemirror_mode": {
    "name": "ipython",
    "version": 3
   },
   "file_extension": ".py",
   "mimetype": "text/x-python",
   "name": "python",
   "nbconvert_exporter": "python",
   "pygments_lexer": "ipython3",
   "version": "3.8.8"
  }
 },
 "nbformat": 4,
 "nbformat_minor": 5
}
